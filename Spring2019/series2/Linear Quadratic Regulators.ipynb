{
 "cells": [
  {
   "cell_type": "markdown",
   "metadata": {},
   "source": [
    "# Exercise 3 [Linear Quadratic Regulators]\n",
    "\n",
    "Here we discuss the problem of computing the optimal control policy for problems of the form\n",
    "$$ \\min_{\\mathbf{u}_n} \\mathbf{x}_N^T \\mathbf{Q}_N \\mathbf{x}_N \\sum_{n=0}^{N-1} \\mathbf{x}_{n}^T \\mathbf{Q}_n \\mathbf{x}_n + \\mathbf{u}_n^T \\mathbf{R}_n \\mathbf{u}_n\\\\\n",
    "s.t. \\ \\mathbf{x}_{n+1} = \\mathbf{A}_n \\mathbf{x}_n + \\mathbf{B}_n \\mathbf{u}_n + \\omega_n$$\n",
    "where $\\mathbf{R}>0$, $\\mathbf{Q} \\geq 0$ and $\\mathbb{E}(\\omega_n) = 0$ and $\\mathbb{E}(\\omega_n^T \\omega_n) \\leq \\infty$ (i.e. the noise has 0 mean and finite variance)\n",
    "\n",
    "We have seen in the class that the optimal control and optimal value function (and cost-to-go for every stage) could be found by solving the following backward Riccati equations from $N$ to $0$\n",
    "$$\\mathbf{P}_N = \\mathbf{Q}_N\\\\\n",
    "\\mathbf{K}_n = -(\\mathbf{R}_n+\\mathbf{B}_n^T \\mathbf{P}_{n+1} \\mathbf{B}_n)^{-1} (\\mathbf{B}_n^T \\mathbf{P}_{n+1} A_n)\\\\\n",
    "\\mathbf{P}_n = \\mathbf{Q}_n + \\mathbf{A}_n^T \\mathbf{P}_{n+1} \\mathbf{A}_n + \\mathbf{A}_n^T \\mathbf{P}_{n+1} \\mathbf{B}_n \\mathbf{K}_n$$\n",
    "\n",
    "The optimal policy is then $$\\mu_n^* = \\mathbf{K}_n \\mathbf{x}_n$$\n",
    "and the optimal value function is $$J_0(\\mathbf{x}_0) = \\mathbf{x}_0^T \\mathbf{P}_0 \\mathbf{x}_0 + \\sum_{n=0}^{N-1} \\mathbb{E}(\\omega_n^T P_{n+1} \\omega_n)$$\n",
    "\n",
    "## Question 1\n",
    "Write a function that solves the backward Riccati equations assuming that $A_n$, $B_n$, $Q_n$ and $R_n$ are constant matrices by completing the matrix below"
   ]
  },
  {
   "cell_type": "code",
   "execution_count": 1,
   "metadata": {},
   "outputs": [],
   "source": [
    "def solve_ricatti_equations(A,B,Q,R,horizon_length):\n",
    "    \"\"\"\n",
    "    This function solves the backward Riccatti equations for regulator problems of the form\n",
    "    min xQx + sum(xQx + uRu) subject to xn+1 = Axn + Bun\n",
    "    \n",
    "    Arguments:\n",
    "    A, B, Q, R: numpy arrays defining the problem\n",
    "    horizon_length: length of the horizon\n",
    "    \n",
    "    Returns:\n",
    "    P: list of numpy arrays containing Pn from N to 0\n",
    "    K: list of numpy arrays containing Kn from N-1 to 0\n",
    "    \"\"\"\n",
    "    P = [] #will contain the list of Ps from N to 0\n",
    "    K = [] #will contain the list of Ks from N-1 to 0\n",
    "\n",
    "    \n",
    "    #################################################\n",
    "    #### THIS IS WERE YOU NEED TO FILL YOUR CODE ####\n",
    "    #################################################\n",
    "\n",
    "    \n",
    "    return P[::-1],K[::-1]"
   ]
  },
  {
   "cell_type": "markdown",
   "metadata": {},
   "source": [
    "## Question 2\n",
    "\n",
    "1. Compute the optimal controllers for the four systems shown in Exercise 2 [Controllability] for an horizon length of 100 steps using $Q = I_{3 \\times 3}$ and $R = 0.1$.\n",
    "2. Compute the behavior of each system for initial conditions $x_0 = [1,1,1]$ when using the optimal controller and compare the system behavior when no controller is used ($u_n = 0$). \n",
    "3. For which system did the controller lead to a stable system?"
   ]
  },
  {
   "cell_type": "code",
   "execution_count": null,
   "metadata": {},
   "outputs": [],
   "source": []
  }
 ],
 "metadata": {
  "kernelspec": {
   "display_name": "Python 2",
   "language": "python",
   "name": "python2"
  },
  "language_info": {
   "codemirror_mode": {
    "name": "ipython",
    "version": 3
   },
   "file_extension": ".py",
   "mimetype": "text/x-python",
   "name": "python",
   "nbconvert_exporter": "python",
   "pygments_lexer": "ipython3",
   "version": "3.7.6"
  }
 },
 "nbformat": 4,
 "nbformat_minor": 2
}
