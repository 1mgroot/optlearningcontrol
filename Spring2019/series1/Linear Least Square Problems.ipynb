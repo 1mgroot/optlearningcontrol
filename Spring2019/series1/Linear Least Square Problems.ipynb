{
 "cells": [
  {
   "cell_type": "markdown",
   "metadata": {},
   "source": [
    "# Linear Least Square Problems\n",
    "\n",
    "We have seen in the class that various problems of fitting a polynomial to experimental data could be written as a quadratic program. \n",
    "\n",
    "Let's assume that we have collected $N$ data points as pairs $(x_i, y_i)$. These data points might be corrupted by noise and we would like to find a functional relationship between $x$ and $y$ as a polynomial of degree $K$\n",
    "\\begin{equation}\n",
    "y = \\sum_{k=0}^{K} a_k x^k\n",
    "\\end{equation}\n",
    "\n",
    "For example, we might want to find a polynomial of degree 1 (i.e. a linear function)\n",
    "$$ y = a_0 + a_1 x$$\n",
    "that best explain the data. This means that we seek to find the coefficients $a_0$ and $a_1$ that best explain the data.\n",
    "\n",
    "Assuming that the data has been corrupted by noise, we assume that for each data point we have\n",
    "$$ y_i = \\sum_{k=0}^{K} a_k x_i^k + e_i$$\n",
    "where $e_i$ is the noise (or error) coming from sample $i$. Here we seek to find the values of the parameters $a_k$, for a given degree K such that the sum of square of the errors is minimized. This means that we want to solve the following problem\n",
    "$$\\min_{a_0 \\cdots a_K} \\sum_{i=0}^{N-1} e_i^2$$\n",
    "which is equivalent to\n",
    "$$\\min_{a_0 \\cdots a_K} \\sum_{i=0}^{N-1} (\\sum_{k=0}^{K} a_k x_i^k - y_i)^2$$\n",
    "We can write these relations in matrix form by noticing that\n",
    "$$\\sum_{k=0}^{K} a_k x_i^k = \\begin{bmatrix}1& x_i& x_i^2& \\cdots& x_i^K\\end{bmatrix}\\begin{bmatrix}a_0\\\\ a_1 \\\\ a_2 \\\\ \\vdots \\\\ a_K\\end{bmatrix} $$\n",
    "Using all the data points and the knowledge of the degree K and we can then construct the $N \\times K$ matrix\n",
    "$$ X = \\begin{bmatrix} 1& x_0& x_0^2& \\cdots& x_0^K \\\\ 1& x_1& x_1^2& \\cdots& x_1^K \\\\ \\vdots&\\vdots&\\vdots&\\vdots&\\vdots \\\\ 1& x_{N-1}& x_{N-1}^2& \\cdots& x_{N-1}^K \\end{bmatrix}$$\n",
    "and the vector\n",
    "$$Y = \\begin{bmatrix} y_0 \\\\ y_1 \\\\ \\vdots \\\\ y_{N-1} \\end{bmatrix}$$\n",
    "where each row $i$ of $X$ and $Y$ is defined by the sample $i$ from the dataset.\n",
    "We also write \n",
    "$$a = \\begin{bmatrix} a_0 \\\\ a_1 \\\\ \\vdots \\\\ a_K \\end{bmatrix}$$\n",
    "We now have\n",
    "$$Xa - Y = \\begin{bmatrix} \\sum_{k=0}^{K} a_k x_0^k - y_0 \\\\ \\sum_{k=0}^{K} a_k x_1^k - y_1 \\\\ \\vdots \\\\ \\sum_{k=0}^{K} a_k x_{N-1}^k - y_{N-1} \\end{bmatrix} $$\n",
    "and the original problem can be written as\n",
    "$$\\min_a (Xa - Y)^T (Xa - Y)$$\n",
    "which is equal to\n",
    "$$\\min_a a^T X^T X a - 2 Y^TXa + Y^2$$\n",
    "The problem is the minimization of a quadratic function, which is convex, and therefore the necessary and sufficient conditions to find the minimum of the function is to find the value of $a$ that makes the gradient 0\n",
    "$$\\frac{\\partial}{\\partial a} \\left(a^T X^T X a - 2 Y^TXa + Y^2 \\right) = 2 X^T X a - 2X^T Y = 0$$\n",
    "If the matrix $X^TX$ is full rank and we can invert it (which will be the case if there is enough data points which are different enough) then the solution to the problem is\n",
    "$$ a = (X^T X)^{-1} X^T Y$$"
   ]
  },
  {
   "cell_type": "markdown",
   "metadata": {},
   "source": [
    "## Examples - fitting a linear function\n",
    "Here we generate a set of data from a linear function + noise and show how we can get an estimate of the function using the least square method\n",
    "\n",
    "First we generate random data points from a linear function + Gaussian noise"
   ]
  },
  {
   "cell_type": "code",
   "execution_count": 1,
   "metadata": {},
   "outputs": [
    {
     "data": {
      "text/plain": [
       "Text(0.5,1,'Randomly generated data points')"
      ]
     },
     "execution_count": 1,
     "metadata": {},
     "output_type": "execute_result"
    },
    {
     "data": {
      "image/png": "[encoded data removed]",
      "text/plain": [
       "<Figure size 432x288 with 1 Axes>"
      ]
     },
     "metadata": {
      "needs_background": "light"
     },
     "output_type": "display_data"
    }
   ],
   "source": [
    "%matplotlib inline\n",
    "import numpy as np\n",
    "import matplotlib as mp\n",
    "import matplotlib.pyplot as plt\n",
    "from IPython.display import display, Markdown\n",
    "\n",
    "# generating 100 random data points\n",
    "data_x = np.random.uniform(-10., 10., 100) # we randomly draw x uniformly\n",
    "data_y = 5. * data_x + 2. + np.random.normal(scale=3.0, size=len(data_x)) # we add noise to y\n",
    "\n",
    "plt.figure()\n",
    "plt.plot(data_x, data_y, 'x')\n",
    "plt.title('Randomly generated data points')"
   ]
  },
  {
   "cell_type": "markdown",
   "metadata": {},
   "source": [
    "Now we can compute the least square fit  and get an estimate of $a_0$ and $a_1$. First we construct the regression matrices $X$ and $Y$ and then use the solution we computed above."
   ]
  },
  {
   "cell_type": "code",
   "execution_count": 2,
   "metadata": {},
   "outputs": [],
   "source": [
    "def do_regression(data_x, data_y, degree):\n",
    "    \"\"\"\n",
    "    This function perform linear least squares to find a polynomial that fits the data\n",
    "    \n",
    "    Arguments:\n",
    "    data_x: numpy array (1D) that contains the x data\n",
    "    data_Y: numpy array (1D) that contains the y data\n",
    "    degree: degree of  the polynomial to fit (1 is for a line)\n",
    "    \n",
    "    returns: an array of paramters for the fit\n",
    "    \"\"\"\n",
    "    X = np.empty([len(data_x), degree+1])\n",
    "    Y = np.empty([len(data_y)])\n",
    "    # for each data point\n",
    "    for i,x in enumerate(data_x):\n",
    "        for j in range(degree+1):\n",
    "            X[i,j] = x**j\n",
    "        Y[i] = data_y[i]\n",
    "    \n",
    "    #construct X^T X\n",
    "    XTX = X.transpose().dot(X)\n",
    "    \n",
    "    a = np.linalg.solve(XTX, X.transpose().dot(Y))\n",
    "    \n",
    "    fitting_error = (X.dot(a) - Y).dot(X.dot(a) - Y)\n",
    "    \n",
    "    return a, fitting_error"
   ]
  },
  {
   "cell_type": "code",
   "execution_count": 3,
   "metadata": {},
   "outputs": [
    {
     "data": {
      "text/markdown": [
       "***Fitting results***"
      ],
      "text/plain": [
       "<IPython.core.display.Markdown object>"
      ]
     },
     "metadata": {},
     "output_type": "display_data"
    },
    {
     "data": {
      "text/markdown": [
       "the regressed values are 1.750217 and 4.974515"
      ],
      "text/plain": [
       "<IPython.core.display.Markdown object>"
      ]
     },
     "metadata": {},
     "output_type": "display_data"
    },
    {
     "data": {
      "text/markdown": [
       "the fitting error is 850.824759"
      ],
      "text/plain": [
       "<IPython.core.display.Markdown object>"
      ]
     },
     "metadata": {},
     "output_type": "display_data"
    },
    {
     "data": {
      "text/plain": [
       "Text(0.5,1,'Randomly generated data points and fitted function')"
      ]
     },
     "execution_count": 3,
     "metadata": {},
     "output_type": "execute_result"
    },
    {
     "data": {
      "image/png": "[encoded data removed]",
      "text/plain": [
       "<Figure size 432x288 with 1 Axes>"
      ]
     },
     "metadata": {
      "needs_background": "light"
     },
     "output_type": "display_data"
    }
   ],
   "source": [
    "a, fitting_error = do_regression(data_x, data_y, 1)\n",
    "\n",
    "display(Markdown('***Fitting results***'))\n",
    "display(Markdown('the regressed values are ' + '%f'%a[0] + ' and ' + '%f'%a[1]))\n",
    "display(Markdown('the fitting error is ' +  '%f'%fitting_error))\n",
    "\n",
    "plt.figure()\n",
    "plt.plot(data_x, data_y, 'x')\n",
    "plt.plot(data_x, a[0] + a[1]*data_x)\n",
    "plt.title('Randomly generated data points and fitted function')"
   ]
  },
  {
   "cell_type": "markdown",
   "metadata": {},
   "source": [
    "In the figure above we see in orange the recovered linear function from the data. Note here that we do not recover the true linear function but only an approximation. It is because the data has been corrupted by noise. You can try and see how this fit changes when noise increases or decreases.\n",
    "\n",
    "In the following  we do the same with data points generated by a quadratic model and compare various fits"
   ]
  },
  {
   "cell_type": "code",
   "execution_count": 8,
   "metadata": {},
   "outputs": [
    {
     "data": {
      "text/markdown": [
       "***Fitting results for the linear model***"
      ],
      "text/plain": [
       "<IPython.core.display.Markdown object>"
      ]
     },
     "metadata": {},
     "output_type": "display_data"
    },
    {
     "data": {
      "text/markdown": [
       "the regressed values are 60.755819 and 3.144445"
      ],
      "text/plain": [
       "<IPython.core.display.Markdown object>"
      ]
     },
     "metadata": {},
     "output_type": "display_data"
    },
    {
     "data": {
      "text/markdown": [
       "the fitting error is 307630.951047"
      ],
      "text/plain": [
       "<IPython.core.display.Markdown object>"
      ]
     },
     "metadata": {},
     "output_type": "display_data"
    },
    {
     "data": {
      "text/markdown": [
       "***Fitting results for the quadratic model***"
      ],
      "text/plain": [
       "<IPython.core.display.Markdown object>"
      ]
     },
     "metadata": {},
     "output_type": "display_data"
    },
    {
     "data": {
      "text/markdown": [
       "the regressed values are 1.277107, 1.452745 and 2.003668"
      ],
      "text/plain": [
       "<IPython.core.display.Markdown object>"
      ]
     },
     "metadata": {},
     "output_type": "display_data"
    },
    {
     "data": {
      "text/markdown": [
       "the fitting error is 2578.107451"
      ],
      "text/plain": [
       "<IPython.core.display.Markdown object>"
      ]
     },
     "metadata": {},
     "output_type": "display_data"
    },
    {
     "data": {
      "text/markdown": [],
      "text/plain": [
       "<IPython.core.display.Markdown object>"
      ]
     },
     "metadata": {},
     "output_type": "display_data"
    },
    {
     "data": {
      "text/markdown": [
       "We notice that the fit of the quadratic model leads to a lower fitting error and a much better fit"
      ],
      "text/plain": [
       "<IPython.core.display.Markdown object>"
      ]
     },
     "metadata": {},
     "output_type": "display_data"
    },
    {
     "data": {
      "text/markdown": [
       "***Fitting results for the cubic model***"
      ],
      "text/plain": [
       "<IPython.core.display.Markdown object>"
      ]
     },
     "metadata": {},
     "output_type": "display_data"
    },
    {
     "data": {
      "text/markdown": [
       "the regressed values are 1.278380, 1.747494 and 2.009460 and -0.005324"
      ],
      "text/plain": [
       "<IPython.core.display.Markdown object>"
      ]
     },
     "metadata": {},
     "output_type": "display_data"
    },
    {
     "data": {
      "text/markdown": [
       "the fitting error is 2522.796476"
      ],
      "text/plain": [
       "<IPython.core.display.Markdown object>"
      ]
     },
     "metadata": {},
     "output_type": "display_data"
    },
    {
     "data": {
      "text/markdown": [],
      "text/plain": [
       "<IPython.core.display.Markdown object>"
      ]
     },
     "metadata": {},
     "output_type": "display_data"
    },
    {
     "data": {
      "text/markdown": [
       "We notice that the fit of the quadratic model leads to a lower fitting error and a much better fit"
      ],
      "text/plain": [
       "<IPython.core.display.Markdown object>"
      ]
     },
     "metadata": {},
     "output_type": "display_data"
    },
    {
     "data": {
      "text/plain": [
       "Text(0.5,1,'Randomly generated data points and fitted linear and quadratic functions')"
      ]
     },
     "execution_count": 8,
     "metadata": {},
     "output_type": "execute_result"
    },
    {
     "data": {
      "image/png": "[encoded data removed]",
      "text/plain": [
       "<Figure size 432x288 with 1 Axes>"
      ]
     },
     "metadata": {
      "needs_background": "light"
     },
     "output_type": "display_data"
    }
   ],
   "source": [
    "# generating 100 random data points\n",
    "data_x = np.random.uniform(-10., 10., 100) # we randomly draw x uniformly\n",
    "data_y = 2. * data_x**2 + 1.5*data_x + 1. + np.random.normal(scale=5.0, size=len(data_x)) # we add noise to y\n",
    "\n",
    "# we now fit the data with a linear model\n",
    "a, fitting_error = do_regression(data_x, data_y, 1)\n",
    "\n",
    "# and we a quadratic model\n",
    "b, fitting_error2 = do_regression(data_x, data_y, 2)\n",
    "\n",
    "c, fitting_error3 = do_regression(data_x, data_y, 3)\n",
    "\n",
    "\n",
    "display(Markdown('***Fitting results for the linear model***'))\n",
    "display(Markdown('the regressed values are ' + '%f'%a[0] + ' and ' + '%f'%a[1]))\n",
    "display(Markdown('the fitting error is ' +  '%f'%fitting_error))\n",
    "\n",
    "display(Markdown('***Fitting results for the quadratic model***'))\n",
    "display(Markdown('the regressed values are ' + '%f'%b[0] + ', ' + '%f'%b[1] + ' and ' + '%f'%b[2]))\n",
    "display(Markdown('the fitting error is ' +  '%f'%fitting_error2))\n",
    "display(Markdown(''))\n",
    "display(Markdown('We notice that the fit of the quadratic model leads to a lower fitting error and a much better fit'))\n",
    "\n",
    "display(Markdown('***Fitting results for the cubic model***'))\n",
    "display(Markdown('the regressed values are ' + '%f'%c[0] + ', ' + '%f'%c[1] + ' and ' + '%f'%c[2]+ ' and ' + '%f'%c[3]))\n",
    "display(Markdown('the fitting error is ' +  '%f'%fitting_error3))\n",
    "display(Markdown(''))\n",
    "display(Markdown('We notice that the fit of the quadratic model leads to a lower fitting error and a much better fit'))\n",
    "\n",
    "\n",
    "plt.figure()\n",
    "# we sort the data to make the plot pretty\n",
    "plot_x = np.sort(data_x)\n",
    "plt.plot(data_x, data_y, 'x')\n",
    "plt.plot(plot_x, a[0] + a[1]*plot_x)\n",
    "plt.plot(plot_x, b[0] + b[1]*plot_x + b[2]*plot_x**2)\n",
    "plt.plot(plot_x, c[0] + c[1]*plot_x + c[2]*plot_x**2 + c[3]*plot_x**3, 'k')\n",
    "plt.title('Randomly generated data points and fitted linear and quadratic functions')"
   ]
  },
  {
   "cell_type": "code",
   "execution_count": null,
   "metadata": {},
   "outputs": [],
   "source": []
  }
 ],
 "metadata": {
  "kernelspec": {
   "display_name": "Python 2",
   "language": "python",
   "name": "python2"
  },
  "language_info": {
   "codemirror_mode": {
    "name": "ipython",
    "version": 2
   },
   "file_extension": ".py",
   "mimetype": "text/x-python",
   "name": "python",
   "nbconvert_exporter": "python",
   "pygments_lexer": "ipython2",
   "version": "2.7.15"
  }
 },
 "nbformat": 4,
 "nbformat_minor": 2
}
